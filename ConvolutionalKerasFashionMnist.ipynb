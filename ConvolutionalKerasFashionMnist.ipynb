{
  "nbformat": 4,
  "nbformat_minor": 0,
  "metadata": {
    "colab": {
      "name": "ConvolutionalKerasFashionMnist.ipynb",
      "provenance": [],
      "include_colab_link": true
    },
    "kernelspec": {
      "name": "python3",
      "display_name": "Python 3"
    },
    "accelerator": "GPU"
  },
  "cells": [
    {
      "cell_type": "markdown",
      "metadata": {
        "id": "view-in-github",
        "colab_type": "text"
      },
      "source": [
        "<a href=\"https://colab.research.google.com/github/SourabhG16/DeepLearning/blob/master/ConvolutionalKerasFashionMnist.ipynb\" target=\"_parent\"><img src=\"https://colab.research.google.com/assets/colab-badge.svg\" alt=\"Open In Colab\"/></a>"
      ]
    },
    {
      "cell_type": "code",
      "metadata": {
        "id": "uG0RtSe0uA1G",
        "colab_type": "code",
        "colab": {}
      },
      "source": [
        "import tensorflow as tf\n",
        "mnist=tf.keras.datasets.fashion_mnist"
      ],
      "execution_count": 0,
      "outputs": []
    },
    {
      "cell_type": "code",
      "metadata": {
        "id": "e7XpYOdduW3m",
        "colab_type": "code",
        "colab": {
          "base_uri": "https://localhost:8080/",
          "height": 54
        },
        "outputId": "01ad2040-8413-4369-f47d-30832e881d55"
      },
      "source": [
        "mnist"
      ],
      "execution_count": 112,
      "outputs": [
        {
          "output_type": "execute_result",
          "data": {
            "text/plain": [
              "<module 'tensorflow.python.keras.api._v1.keras.datasets.fashion_mnist' from '/usr/local/lib/python3.6/dist-packages/tensorflow_core/python/keras/api/_v1/keras/datasets/fashion_mnist/__init__.py'>"
            ]
          },
          "metadata": {
            "tags": []
          },
          "execution_count": 112
        }
      ]
    },
    {
      "cell_type": "code",
      "metadata": {
        "id": "eyXSBlRDuaXc",
        "colab_type": "code",
        "colab": {}
      },
      "source": [
        "(train_img,train_label),(test_img,test_label)=mnist.load_data()"
      ],
      "execution_count": 0,
      "outputs": []
    },
    {
      "cell_type": "code",
      "metadata": {
        "id": "6Bh1NYxMujYz",
        "colab_type": "code",
        "colab": {}
      },
      "source": [
        "train_img=train_img.reshape(60000,28,28,1)\n",
        "train_img=train_img/255.0\n",
        "test_img=test_img.reshape(10000,28,28,1)\n",
        "test_img=test_img/255.0"
      ],
      "execution_count": 0,
      "outputs": []
    },
    {
      "cell_type": "code",
      "metadata": {
        "id": "6yatgvAJuuD2",
        "colab_type": "code",
        "colab": {}
      },
      "source": [
        "model=tf.keras.models.Sequential([\n",
        "    tf.keras.layers.Conv2D(32,(3,3),activation='relu',input_shape=(28,28,1)),\n",
        "    tf.keras.layers.MaxPooling2D(2,2),\n",
        "    #tf.keras.layers.Conv2D(64,(3,3),activation='relu'),\n",
        "    #tf.keras.layers.MaxPooling2D(2,2),\n",
        "    tf.keras.layers.Flatten(),\n",
        "    tf.keras.layers.Dense(128,activation='relu'),\n",
        "    tf.keras.layers.Dense(128,activation='relu'),\n",
        "    tf.keras.layers.Dense(10,activation='softmax')\n",
        "])"
      ],
      "execution_count": 0,
      "outputs": []
    },
    {
      "cell_type": "code",
      "metadata": {
        "id": "TTtKEmbp4Erc",
        "colab_type": "code",
        "colab": {}
      },
      "source": [
        "model.compile(optimizer='adam',loss='sparse_categorical_crossentropy',metrics=['accuracy'])"
      ],
      "execution_count": 0,
      "outputs": []
    },
    {
      "cell_type": "code",
      "metadata": {
        "id": "URumxEPb4kGf",
        "colab_type": "code",
        "colab": {
          "base_uri": "https://localhost:8080/",
          "height": 357
        },
        "outputId": "6e927fa2-49b0-4a42-defe-d552f5ca9ec3"
      },
      "source": [
        "model.summary()"
      ],
      "execution_count": 121,
      "outputs": [
        {
          "output_type": "stream",
          "text": [
            "Model: \"sequential_17\"\n",
            "_________________________________________________________________\n",
            "Layer (type)                 Output Shape              Param #   \n",
            "=================================================================\n",
            "conv2d_29 (Conv2D)           (None, 26, 26, 32)        320       \n",
            "_________________________________________________________________\n",
            "max_pooling2d_29 (MaxPooling (None, 13, 13, 32)        0         \n",
            "_________________________________________________________________\n",
            "flatten_17 (Flatten)         (None, 5408)              0         \n",
            "_________________________________________________________________\n",
            "dense_39 (Dense)             (None, 128)               692352    \n",
            "_________________________________________________________________\n",
            "dense_40 (Dense)             (None, 128)               16512     \n",
            "_________________________________________________________________\n",
            "dense_41 (Dense)             (None, 10)                1290      \n",
            "=================================================================\n",
            "Total params: 710,474\n",
            "Trainable params: 710,474\n",
            "Non-trainable params: 0\n",
            "_________________________________________________________________\n"
          ],
          "name": "stdout"
        }
      ]
    },
    {
      "cell_type": "code",
      "metadata": {
        "id": "Ws4UXjqL4ml8",
        "colab_type": "code",
        "colab": {
          "base_uri": "https://localhost:8080/",
          "height": 391
        },
        "outputId": "1b290971-e0d4-4ec8-d869-077342941028"
      },
      "source": [
        "model.fit(train_img,train_label,epochs=10)"
      ],
      "execution_count": 122,
      "outputs": [
        {
          "output_type": "stream",
          "text": [
            "Train on 60000 samples\n",
            "Epoch 1/10\n",
            "60000/60000 [==============================] - 9s 157us/sample - loss: 0.4103 - acc: 0.8518\n",
            "Epoch 2/10\n",
            "60000/60000 [==============================] - 9s 155us/sample - loss: 0.2663 - acc: 0.9023\n",
            "Epoch 3/10\n",
            "60000/60000 [==============================] - 9s 156us/sample - loss: 0.2217 - acc: 0.9176\n",
            "Epoch 4/10\n",
            "60000/60000 [==============================] - 9s 156us/sample - loss: 0.1889 - acc: 0.9292\n",
            "Epoch 5/10\n",
            "60000/60000 [==============================] - 9s 154us/sample - loss: 0.1629 - acc: 0.9386\n",
            "Epoch 6/10\n",
            "60000/60000 [==============================] - 9s 156us/sample - loss: 0.1386 - acc: 0.9485\n",
            "Epoch 7/10\n",
            "60000/60000 [==============================] - 9s 155us/sample - loss: 0.1177 - acc: 0.9564\n",
            "Epoch 8/10\n",
            "60000/60000 [==============================] - 9s 155us/sample - loss: 0.1007 - acc: 0.9622\n",
            "Epoch 9/10\n",
            "60000/60000 [==============================] - 9s 155us/sample - loss: 0.0855 - acc: 0.9686\n",
            "Epoch 10/10\n",
            "60000/60000 [==============================] - 9s 154us/sample - loss: 0.0765 - acc: 0.9708\n"
          ],
          "name": "stdout"
        },
        {
          "output_type": "execute_result",
          "data": {
            "text/plain": [
              "<tensorflow.python.keras.callbacks.History at 0x7fe4c21636d8>"
            ]
          },
          "metadata": {
            "tags": []
          },
          "execution_count": 122
        }
      ]
    },
    {
      "cell_type": "code",
      "metadata": {
        "id": "-N4lImzp4xIl",
        "colab_type": "code",
        "colab": {
          "base_uri": "https://localhost:8080/",
          "height": 34
        },
        "outputId": "318ba7f6-c5c3-4257-e56a-632738063f98"
      },
      "source": [
        "test_loss=model.evaluate(test_img,test_label)"
      ],
      "execution_count": 123,
      "outputs": [
        {
          "output_type": "stream",
          "text": [
            "10000/10000 [==============================] - 1s 102us/sample - loss: 0.3538 - acc: 0.9125\n"
          ],
          "name": "stdout"
        }
      ]
    },
    {
      "cell_type": "code",
      "metadata": {
        "id": "Ur3hiA3v8unl",
        "colab_type": "code",
        "colab": {}
      },
      "source": [
        ""
      ],
      "execution_count": 0,
      "outputs": []
    }
  ]
}