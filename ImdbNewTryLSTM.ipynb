{
  "nbformat": 4,
  "nbformat_minor": 0,
  "metadata": {
    "colab": {
      "name": "Colab's New Code Editor",
      "provenance": [],
      "collapsed_sections": [],
      "include_colab_link": true
    },
    "kernelspec": {
      "display_name": "Python 3",
      "name": "python3"
    }
  },
  "cells": [
    {
      "cell_type": "markdown",
      "metadata": {
        "id": "view-in-github",
        "colab_type": "text"
      },
      "source": [
        "<a href=\"https://colab.research.google.com/github/SourabhG16/DeepLearning/blob/master/ImdbNewTryLSTM.ipynb\" target=\"_parent\"><img src=\"https://colab.research.google.com/assets/colab-badge.svg\" alt=\"Open In Colab\"/></a>"
      ]
    },
    {
      "cell_type": "code",
      "metadata": {
        "id": "d8_JcJmCUOug",
        "colab_type": "code",
        "colab": {}
      },
      "source": [
        "from keras.datasets import imdb\n",
        "from keras.models import Sequential\n",
        "from keras.layers import Dense,LSTM,Embedding\n",
        "from keras.preprocessing import sequence"
      ],
      "execution_count": 0,
      "outputs": []
    },
    {
      "cell_type": "code",
      "metadata": {
        "id": "dw0v--YTUsg1",
        "colab_type": "code",
        "colab": {}
      },
      "source": [
        "max_features=25000"
      ],
      "execution_count": 0,
      "outputs": []
    },
    {
      "cell_type": "code",
      "metadata": {
        "id": "NHBrPe6AU_Qu",
        "colab_type": "code",
        "colab": {}
      },
      "source": [
        "(X_train,y_train),(X_test,y_test)=imdb.load_data(num_words=max_features)"
      ],
      "execution_count": 0,
      "outputs": []
    },
    {
      "cell_type": "code",
      "metadata": {
        "id": "j4NH_YeaVf1G",
        "colab_type": "code",
        "colab": {}
      },
      "source": [
        "max_len=80\n",
        "batch_size=32"
      ],
      "execution_count": 0,
      "outputs": []
    },
    {
      "cell_type": "code",
      "metadata": {
        "id": "-ky_-Zc-WlrI",
        "colab_type": "code",
        "colab": {
          "base_uri": "https://localhost:8080/",
          "height": 51
        },
        "outputId": "ed9edfa0-df3e-46d9-a2ba-c4726c687892"
      },
      "source": [
        "X_train=sequence.pad_sequences(X_train,maxlen=max_len)\n",
        "X_test=sequence.pad_sequences(X_test,maxlen=max_len)\n",
        "print(X_train.shape)\n",
        "print(X_test.shape)"
      ],
      "execution_count": 60,
      "outputs": [
        {
          "output_type": "stream",
          "text": [
            "(25000, 80)\n",
            "(25000, 80)\n"
          ],
          "name": "stdout"
        }
      ]
    },
    {
      "cell_type": "code",
      "metadata": {
        "id": "lXq3PzkXXBfV",
        "colab_type": "code",
        "colab": {}
      },
      "source": [
        "model=Sequential()\n",
        "model.add(Embedding(max_features,32))\n",
        "model.add(LSTM(128,activation='relu',dropout=0.2,recurrent_dropout=0.2))\n",
        "model.add(Dense(1,activation='sigmoid'))"
      ],
      "execution_count": 0,
      "outputs": []
    },
    {
      "cell_type": "code",
      "metadata": {
        "id": "ED36TA4wXsbm",
        "colab_type": "code",
        "colab": {}
      },
      "source": [
        "model.compile(loss='binary_crossentropy',optimizer='adam',metrics=['accuracy'])"
      ],
      "execution_count": 0,
      "outputs": []
    },
    {
      "cell_type": "code",
      "metadata": {
        "id": "0CcmJ7_QX6lk",
        "colab_type": "code",
        "colab": {
          "base_uri": "https://localhost:8080/",
          "height": 374
        },
        "outputId": "60c34020-ddac-4dc8-cfa5-9db4171d1c7d"
      },
      "source": [
        "model.fit(X_train,y_train,epochs=10,batch_size=batch_size)"
      ],
      "execution_count": 63,
      "outputs": [
        {
          "output_type": "stream",
          "text": [
            "Epoch 1/10\n",
            "25000/25000 [==============================] - 145s 6ms/step - loss: 0.6505 - acc: 0.6913\n",
            "Epoch 2/10\n",
            "25000/25000 [==============================] - 146s 6ms/step - loss: 0.5008 - acc: 0.7520\n",
            "Epoch 3/10\n",
            "25000/25000 [==============================] - 147s 6ms/step - loss: 0.3606 - acc: 0.8518\n",
            "Epoch 4/10\n",
            "25000/25000 [==============================] - 148s 6ms/step - loss: 0.3071 - acc: 0.8801\n",
            "Epoch 5/10\n",
            "25000/25000 [==============================] - 147s 6ms/step - loss: 0.2292 - acc: 0.9169\n",
            "Epoch 6/10\n",
            "25000/25000 [==============================] - 147s 6ms/step - loss: 0.1713 - acc: 0.9397\n",
            "Epoch 7/10\n",
            "25000/25000 [==============================] - 146s 6ms/step - loss: 0.1337 - acc: 0.9546\n",
            "Epoch 8/10\n",
            "25000/25000 [==============================] - 147s 6ms/step - loss: 0.1079 - acc: 0.9663\n",
            "Epoch 9/10\n",
            "25000/25000 [==============================] - 146s 6ms/step - loss: 0.0835 - acc: 0.9739\n",
            "Epoch 10/10\n",
            "25000/25000 [==============================] - 146s 6ms/step - loss: 0.0673 - acc: 0.9791\n"
          ],
          "name": "stdout"
        },
        {
          "output_type": "execute_result",
          "data": {
            "text/plain": [
              "<keras.callbacks.History at 0x7f94dc6b9160>"
            ]
          },
          "metadata": {
            "tags": []
          },
          "execution_count": 63
        }
      ]
    },
    {
      "cell_type": "code",
      "metadata": {
        "id": "MtnGMrCyYBaF",
        "colab_type": "code",
        "colab": {
          "base_uri": "https://localhost:8080/",
          "height": 34
        },
        "outputId": "1b1343c1-6e58-4cc5-daee-ef7df55ea362"
      },
      "source": [
        "acc=model.evaluate(X_test,y_test)"
      ],
      "execution_count": 64,
      "outputs": [
        {
          "output_type": "stream",
          "text": [
            "25000/25000 [==============================] - 24s 953us/step\n"
          ],
          "name": "stdout"
        }
      ]
    },
    {
      "cell_type": "code",
      "metadata": {
        "id": "t2vvpBr8YNgf",
        "colab_type": "code",
        "colab": {
          "base_uri": "https://localhost:8080/",
          "height": 34
        },
        "outputId": "e98eeda4-5ee2-4b45-ac27-8ca89aba51ec"
      },
      "source": [
        "acc"
      ],
      "execution_count": 65,
      "outputs": [
        {
          "output_type": "execute_result",
          "data": {
            "text/plain": [
              "[0.9217764124011993, 0.78468]"
            ]
          },
          "metadata": {
            "tags": []
          },
          "execution_count": 65
        }
      ]
    },
    {
      "cell_type": "code",
      "metadata": {
        "id": "4hmGX3NUYN09",
        "colab_type": "code",
        "colab": {
          "base_uri": "https://localhost:8080/",
          "height": 289
        },
        "outputId": "b1d3de53-a91a-4260-c24e-d626fca052f1"
      },
      "source": [
        "model.summary()"
      ],
      "execution_count": 66,
      "outputs": [
        {
          "output_type": "stream",
          "text": [
            "Model: \"sequential_7\"\n",
            "_________________________________________________________________\n",
            "Layer (type)                 Output Shape              Param #   \n",
            "=================================================================\n",
            "embedding_7 (Embedding)      (None, None, 32)          800000    \n",
            "_________________________________________________________________\n",
            "lstm_7 (LSTM)                (None, None, 128)         82432     \n",
            "_________________________________________________________________\n",
            "lstm_8 (LSTM)                (None, 32)                20608     \n",
            "_________________________________________________________________\n",
            "dense_6 (Dense)              (None, 1)                 33        \n",
            "=================================================================\n",
            "Total params: 903,073\n",
            "Trainable params: 903,073\n",
            "Non-trainable params: 0\n",
            "_________________________________________________________________\n"
          ],
          "name": "stdout"
        }
      ]
    },
    {
      "cell_type": "code",
      "metadata": {
        "id": "n54y3AbUfpCw",
        "colab_type": "code",
        "colab": {}
      },
      "source": [
        ""
      ],
      "execution_count": 0,
      "outputs": []
    }
  ]
}